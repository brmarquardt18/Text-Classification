{
  "nbformat": 4,
  "nbformat_minor": 0,
  "metadata": {
    "kernelspec": {
      "display_name": "Python 3",
      "language": "python",
      "name": "python3"
    },
    "language_info": {
      "codemirror_mode": {
        "name": "ipython",
        "version": 3
      },
      "file_extension": ".py",
      "mimetype": "text/x-python",
      "name": "python",
      "nbconvert_exporter": "python",
      "pygments_lexer": "ipython3",
      "version": "3.7.4"
    },
    "colab": {
      "name": "bi2.2.ipynb",
      "provenance": [],
      "collapsed_sections": []
    }
  },
  "cells": [
    {
      "cell_type": "markdown",
      "metadata": {
        "id": "M0iGFtF2HJxS"
      },
      "source": [
        "## Into\n",
        "In this notebook I will be using keras to build and run a classification of movie reviews using a dataset loaded from keras. I will be thinking of the beginning of this file as more of a tutorial on how to build these models. As someone new to deep learing and keras, I was having to do this informally for my own sake but I figured it might be even more beneficial to myself to make this process part of my biweekly report and do it more formally. My goal in this file is to really break the code down almost line by line and explain what is going on as if the reader is a total beginner. After I do this and understand keras a bit more, I will create a bunch of other models to see how they do.\n",
        "\n",
        "I found many resources online would come at this topic from the assumption that the reader already has a good understanding of the underlying techniques and was just looking for the code to perform these techniques. However, I am new to NLP and deep learning so while many of these \"tutorials\" were helpful for learning how to make the model, they failed to help me understand what was going on line by line behind the scenes. "
      ]
    },
    {
      "cell_type": "code",
      "metadata": {
        "id": "MN_Fi6e3HJxc"
      },
      "source": [
        "import numpy as np\n",
        "from keras.utils import to_categorical\n",
        "from keras import models\n",
        "from keras import layers\n",
        "from keras.datasets import imdb\n",
        "import matplotlib.pyplot as plt"
      ],
      "execution_count": 4,
      "outputs": []
    },
    {
      "cell_type": "markdown",
      "metadata": {
        "id": "302jumPyHJxd"
      },
      "source": [
        "The dataset I will import from keras has 50,000 movie reviews from IMDB that have been labelled as a 1 (positive) or 0 (negative). Each review is encoded as a sequence of indices of words. The words of the reviews are indexed by their overall frequency within the dataset. For example, the integer “2” encodes the second most frequent word in the data. Most of the code for my first model will be coming from the link https://builtin.com/data-science/how-build-neural-network-keras. "
      ]
    },
    {
      "cell_type": "code",
      "metadata": {
        "colab": {
          "base_uri": "https://localhost:8080/"
        },
        "id": "y4hQBOMBHJxd",
        "outputId": "c4ae8c89-7c79-4e4c-d10d-1bf5b5a263f3"
      },
      "source": [
        "##Load the data\n",
        "#Words are ranked by how often they occur (in the training set) and only the num_words most frequent words are kept\n",
        "(training_data, training_targets), (testing_data, testing_targets) = imdb.load_data(num_words=10000)\n",
        "#Merge the data and targets back together to split later in a non 50/50 split\n",
        "data = np.concatenate((training_data, testing_data), axis=0)\n",
        "targets = np.concatenate((training_targets, testing_targets), axis=0)"
      ],
      "execution_count": 2,
      "outputs": [
        {
          "output_type": "stream",
          "text": [
            "<string>:6: VisibleDeprecationWarning: Creating an ndarray from ragged nested sequences (which is a list-or-tuple of lists-or-tuples-or ndarrays with different lengths or shapes) is deprecated. If you meant to do this, you must specify 'dtype=object' when creating the ndarray\n",
            "/usr/local/lib/python3.6/dist-packages/tensorflow/python/keras/datasets/imdb.py:159: VisibleDeprecationWarning: Creating an ndarray from ragged nested sequences (which is a list-or-tuple of lists-or-tuples-or ndarrays with different lengths or shapes) is deprecated. If you meant to do this, you must specify 'dtype=object' when creating the ndarray\n",
            "  x_train, y_train = np.array(xs[:idx]), np.array(labels[:idx])\n",
            "/usr/local/lib/python3.6/dist-packages/tensorflow/python/keras/datasets/imdb.py:160: VisibleDeprecationWarning: Creating an ndarray from ragged nested sequences (which is a list-or-tuple of lists-or-tuples-or ndarrays with different lengths or shapes) is deprecated. If you meant to do this, you must specify 'dtype=object' when creating the ndarray\n",
            "  x_test, y_test = np.array(xs[idx:]), np.array(labels[idx:])\n"
          ],
          "name": "stderr"
        }
      ]
    },
    {
      "cell_type": "markdown",
      "metadata": {
        "id": "njf88PYEHJxe"
      },
      "source": [
        "To help understand what type of data we are dealing with, perform a little bit of data exploration"
      ]
    },
    {
      "cell_type": "code",
      "metadata": {
        "colab": {
          "base_uri": "https://localhost:8080/"
        },
        "id": "Xei469o4HJxf",
        "outputId": "e44c5bc3-08fb-4430-ffdd-ee5c42b139dd"
      },
      "source": [
        "print(data[2])"
      ],
      "execution_count": 3,
      "outputs": [
        {
          "output_type": "stream",
          "text": [
            "[1, 14, 47, 8, 30, 31, 7, 4, 249, 108, 7, 4, 5974, 54, 61, 369, 13, 71, 149, 14, 22, 112, 4, 2401, 311, 12, 16, 3711, 33, 75, 43, 1829, 296, 4, 86, 320, 35, 534, 19, 263, 4821, 1301, 4, 1873, 33, 89, 78, 12, 66, 16, 4, 360, 7, 4, 58, 316, 334, 11, 4, 1716, 43, 645, 662, 8, 257, 85, 1200, 42, 1228, 2578, 83, 68, 3912, 15, 36, 165, 1539, 278, 36, 69, 2, 780, 8, 106, 14, 6905, 1338, 18, 6, 22, 12, 215, 28, 610, 40, 6, 87, 326, 23, 2300, 21, 23, 22, 12, 272, 40, 57, 31, 11, 4, 22, 47, 6, 2307, 51, 9, 170, 23, 595, 116, 595, 1352, 13, 191, 79, 638, 89, 2, 14, 9, 8, 106, 607, 624, 35, 534, 6, 227, 7, 129, 113]\n"
          ],
          "name": "stdout"
        }
      ]
    },
    {
      "cell_type": "markdown",
      "metadata": {
        "id": "JJDbM47zHJxf"
      },
      "source": [
        "We see that data is an array of arrays and at each index is a row vector representing a review with each index inside this vector representing how common the words are."
      ]
    },
    {
      "cell_type": "code",
      "metadata": {
        "colab": {
          "base_uri": "https://localhost:8080/"
        },
        "id": "D4DXanCNHJxf",
        "outputId": "1cd91a5d-041b-4cc2-dc1b-39584a8d8e6e"
      },
      "source": [
        "print(targets[2])"
      ],
      "execution_count": 4,
      "outputs": [
        {
          "output_type": "stream",
          "text": [
            "0\n"
          ],
          "name": "stdout"
        }
      ]
    },
    {
      "cell_type": "markdown",
      "metadata": {
        "id": "zfjtTgu5HJxg"
      },
      "source": [
        "From the above cell, we see that the review indexed by 2 was a negative review since the target is 0."
      ]
    },
    {
      "cell_type": "code",
      "metadata": {
        "colab": {
          "base_uri": "https://localhost:8080/"
        },
        "id": "3JOsisP7HJxg",
        "outputId": "6d442ecb-caa0-4679-954f-fc7bc94d2022"
      },
      "source": [
        "print(\"Targets:\", np.unique(targets))\n",
        "print(\"Number of unique words:\", len(np.unique(np.hstack(data))))\n",
        "length = [len(i) for i in data]\n",
        "print(\"Average number of words:\", np.mean(length))\n"
      ],
      "execution_count": 5,
      "outputs": [
        {
          "output_type": "stream",
          "text": [
            "Targets: [0 1]\n",
            "Number of unique words: 9998\n",
            "Average number of words: 234.75892\n"
          ],
          "name": "stdout"
        }
      ]
    },
    {
      "cell_type": "markdown",
      "metadata": {
        "id": "ogGWF60PHJxh"
      },
      "source": [
        "Again we see the possible classifications of 0 or 1 with the number of unique words and the average length of a review.\n",
        "\n",
        "We will vectorize every review and fill it with zeros so it contains exactly 10,000 numbers. That means we fill every review that is shorter than 10,000 with zeros. We need to do this because the biggest review is nearly that long and every input for our neural network needs to have the same size. "
      ]
    },
    {
      "cell_type": "code",
      "metadata": {
        "id": "lHTr0VS3HJxh"
      },
      "source": [
        "def vectorize(sequences):\n",
        "    results = np.zeros((len(sequences), 10000))\n",
        "    for i, sequence in enumerate(sequences):\n",
        "        results[i, sequence] = 1\n",
        "    return results"
      ],
      "execution_count": 6,
      "outputs": []
    },
    {
      "cell_type": "markdown",
      "metadata": {
        "id": "O_Z8nLR8HJxh"
      },
      "source": [
        "We will then split our data into an 80/20 training/testing split"
      ]
    },
    {
      "cell_type": "code",
      "metadata": {
        "id": "EmOME_5aHJxh"
      },
      "source": [
        "data = vectorize(data)\n",
        "targets = np.array(targets).astype(\"uint8\")\n",
        "test_x = data[:10000]\n",
        "test_y = targets[:10000]\n",
        "train_x = data[10000:]\n",
        "train_y = targets[10000:]"
      ],
      "execution_count": 7,
      "outputs": []
    },
    {
      "cell_type": "markdown",
      "metadata": {
        "id": "jeadZMLIHJxh"
      },
      "source": [
        "Now time for the fun stuff. I will begin by making a sequential model in keras. Keras provides functionality of either the sequential class or the model class. The sequential class groups a linear stack of layers into a tf.keras.Model while the model class groups layers into an object with training and inference features. The sequential model is considered to be easier because it allows users to create models layer by layer in a \"sequential\" manner."
      ]
    },
    {
      "cell_type": "code",
      "metadata": {
        "id": "iQkHxeG2HJxi"
      },
      "source": [
        "#Initialize the model\n",
        "model = models.Sequential()"
      ],
      "execution_count": 8,
      "outputs": []
    },
    {
      "cell_type": "markdown",
      "metadata": {
        "id": "1svmf42iHJxi"
      },
      "source": [
        "Now lets add some layers to the model. We will add the input layer with an activation function of relu. Notice how this layer is using layers.Dense. The documentation of keras from the link https://keras.io/api/layers/core_layers/dense/ states \"Dense implements the operation: output = activation(dot(input, kernel) + bias) where activation is the element-wise activation function passed as the activation argument, kernel is a weights matrix created by the layer, and bias is a bias vector created by the layer (only applicable if use_bias is True).\"\n",
        "\n",
        "I believe use_bias is passed as true unless stated otherwise and with our activation function of relu, we have all the information for the operation: output = activation(dot(input, kernel) + bias). The parameters of 50 and input_shape=(10000, ) mean that the input shape is 10000 (size of our reviews) and then the output will be a size of 50."
      ]
    },
    {
      "cell_type": "code",
      "metadata": {
        "id": "NsAowPSrHJxi"
      },
      "source": [
        "model.add(layers.Dense(50, activation = \"relu\", input_shape=(10000, )))"
      ],
      "execution_count": 9,
      "outputs": []
    },
    {
      "cell_type": "markdown",
      "metadata": {
        "id": "PYcyXmTNHJxi"
      },
      "source": [
        "Now we will add some hidden layers. We will add two dropout layers and two dense layers. The dropout layers help ensure that the model is not overfitting by ignoring or \"dropping\" some outputs of the layer. The first parameter is the rate at which the layer randomly sets the input units to 0. Keras documentation states that noise_shape is a \"1D integer tensor representing the shape of the binary dropout mask that will be multiplied with the input\". The seed parameter is just there to be a random seed if you want a noise_shape. "
      ]
    },
    {
      "cell_type": "code",
      "metadata": {
        "id": "6UJQU9RvHJxj"
      },
      "source": [
        "model.add(layers.Dropout(0.3, noise_shape=None, seed=None))\n",
        "model.add(layers.Dense(50, activation = \"relu\"))\n",
        "model.add(layers.Dropout(0.2, noise_shape=None, seed=None))\n",
        "model.add(layers.Dense(50, activation = \"relu\"))"
      ],
      "execution_count": 10,
      "outputs": []
    },
    {
      "cell_type": "markdown",
      "metadata": {
        "id": "tisW5bzxHJxj"
      },
      "source": [
        "We then need the output layer to map these values to a single value. Once again, the first number is the size of the output and the activation function is a sigmoid. "
      ]
    },
    {
      "cell_type": "code",
      "metadata": {
        "id": "nzfYqcpkHJxj"
      },
      "source": [
        "model.add(layers.Dense(1, activation = \"sigmoid\"))"
      ],
      "execution_count": 11,
      "outputs": []
    },
    {
      "cell_type": "markdown",
      "metadata": {
        "id": "lXhd9_-yHJxk"
      },
      "source": [
        "Now we have a model built using the summary() function we can see everything that we have done clearly"
      ]
    },
    {
      "cell_type": "code",
      "metadata": {
        "colab": {
          "base_uri": "https://localhost:8080/"
        },
        "id": "s5lM3dRjHJxk",
        "outputId": "f10c280c-864b-418b-9203-612d93336138"
      },
      "source": [
        "model.summary()"
      ],
      "execution_count": 12,
      "outputs": [
        {
          "output_type": "stream",
          "text": [
            "Model: \"sequential\"\n",
            "_________________________________________________________________\n",
            "Layer (type)                 Output Shape              Param #   \n",
            "=================================================================\n",
            "dense (Dense)                (None, 50)                500050    \n",
            "_________________________________________________________________\n",
            "dropout (Dropout)            (None, 50)                0         \n",
            "_________________________________________________________________\n",
            "dense_1 (Dense)              (None, 50)                2550      \n",
            "_________________________________________________________________\n",
            "dropout_1 (Dropout)          (None, 50)                0         \n",
            "_________________________________________________________________\n",
            "dense_2 (Dense)              (None, 50)                2550      \n",
            "_________________________________________________________________\n",
            "dense_3 (Dense)              (None, 1)                 51        \n",
            "=================================================================\n",
            "Total params: 505,201\n",
            "Trainable params: 505,201\n",
            "Non-trainable params: 0\n",
            "_________________________________________________________________\n"
          ],
          "name": "stdout"
        }
      ]
    },
    {
      "cell_type": "markdown",
      "metadata": {
        "id": "q6Z5vWX3HJxk"
      },
      "source": [
        "Now we need to compile the model, meaning we need to prepare it for training. The \"adam\" optimizer is an algorithm to change the weights/biases while training. The loss function is binary_crossentropy because the output of this model needs to be a 0 or 1. The evaluation metric is accuracy but you could also look at a variety of other metrics as seen in the link https://www.tensorflow.org/api_docs/python/tf/keras/metrics."
      ]
    },
    {
      "cell_type": "code",
      "metadata": {
        "id": "4fx3F4oFHJxk"
      },
      "source": [
        "model.compile(\n",
        " optimizer = \"adam\",\n",
        " loss = \"binary_crossentropy\",\n",
        " metrics = [\"accuracy\"]\n",
        ")"
      ],
      "execution_count": 13,
      "outputs": []
    },
    {
      "cell_type": "markdown",
      "metadata": {
        "id": "GuEddmIlHJxl"
      },
      "source": [
        "Now it is time to train the model. Using the training data, we run 2 epochs with a batch size of 500 and validation data of our test data. Batch size is simply the number of samples in each chunk that the model will look at to train. The keras documentation states that the validation_data parameter is \"data on which to evaluate the loss and any model metrics at the end of each epoch. The model will not be trained on this data\"."
      ]
    },
    {
      "cell_type": "code",
      "metadata": {
        "colab": {
          "base_uri": "https://localhost:8080/"
        },
        "id": "F_E5lR7cHJxl",
        "outputId": "6db62ee0-3c6e-4ff1-fadf-52a9937b93d4"
      },
      "source": [
        "train_x = np.array(train_x, dtype=np.int8)\n",
        "train_y = np.array(train_y, dtype=np.int8)\n",
        "results1 = model.fit(\n",
        " train_x, train_y,\n",
        " epochs= 20,\n",
        " batch_size = 500,\n",
        " validation_data = (test_x, test_y)\n",
        ")\n",
        "print(\"Test-Accuracy:\", np.mean(results1.history[\"val_accuracy\"]))"
      ],
      "execution_count": 15,
      "outputs": [
        {
          "output_type": "stream",
          "text": [
            "Epoch 1/20\n",
            "80/80 [==============================] - 4s 54ms/step - loss: 0.0178 - accuracy: 0.9933 - val_loss: 0.6907 - val_accuracy: 0.8800\n",
            "Epoch 2/20\n",
            "80/80 [==============================] - 4s 51ms/step - loss: 0.0157 - accuracy: 0.9945 - val_loss: 0.7152 - val_accuracy: 0.8817\n",
            "Epoch 3/20\n",
            "80/80 [==============================] - 4s 52ms/step - loss: 0.0148 - accuracy: 0.9945 - val_loss: 0.7651 - val_accuracy: 0.8824\n",
            "Epoch 4/20\n",
            "80/80 [==============================] - 9s 109ms/step - loss: 0.0154 - accuracy: 0.9949 - val_loss: 0.6865 - val_accuracy: 0.8821\n",
            "Epoch 5/20\n",
            "80/80 [==============================] - 4s 52ms/step - loss: 0.0127 - accuracy: 0.9956 - val_loss: 0.7276 - val_accuracy: 0.8809\n",
            "Epoch 6/20\n",
            "80/80 [==============================] - 4s 53ms/step - loss: 0.0131 - accuracy: 0.9956 - val_loss: 0.7817 - val_accuracy: 0.8816\n",
            "Epoch 7/20\n",
            "80/80 [==============================] - 4s 52ms/step - loss: 0.0127 - accuracy: 0.9956 - val_loss: 0.7285 - val_accuracy: 0.8829\n",
            "Epoch 8/20\n",
            "80/80 [==============================] - 4s 52ms/step - loss: 0.0119 - accuracy: 0.9958 - val_loss: 0.7607 - val_accuracy: 0.8850\n",
            "Epoch 9/20\n",
            "80/80 [==============================] - 4s 52ms/step - loss: 0.0117 - accuracy: 0.9959 - val_loss: 0.7609 - val_accuracy: 0.8838\n",
            "Epoch 10/20\n",
            "80/80 [==============================] - 4s 52ms/step - loss: 0.0119 - accuracy: 0.9959 - val_loss: 0.7577 - val_accuracy: 0.8822\n",
            "Epoch 11/20\n",
            "80/80 [==============================] - 4s 51ms/step - loss: 0.0103 - accuracy: 0.9961 - val_loss: 0.8013 - val_accuracy: 0.8825\n",
            "Epoch 12/20\n",
            "80/80 [==============================] - 4s 51ms/step - loss: 0.0128 - accuracy: 0.9952 - val_loss: 0.8109 - val_accuracy: 0.8821\n",
            "Epoch 13/20\n",
            "80/80 [==============================] - 4s 52ms/step - loss: 0.0130 - accuracy: 0.9955 - val_loss: 0.7643 - val_accuracy: 0.8835\n",
            "Epoch 14/20\n",
            "80/80 [==============================] - 4s 53ms/step - loss: 0.0126 - accuracy: 0.9958 - val_loss: 0.8120 - val_accuracy: 0.8819\n",
            "Epoch 15/20\n",
            "80/80 [==============================] - 4s 52ms/step - loss: 0.0111 - accuracy: 0.9958 - val_loss: 0.7761 - val_accuracy: 0.8806\n",
            "Epoch 16/20\n",
            "80/80 [==============================] - 4s 51ms/step - loss: 0.0120 - accuracy: 0.9961 - val_loss: 0.8071 - val_accuracy: 0.8826\n",
            "Epoch 17/20\n",
            "80/80 [==============================] - 4s 52ms/step - loss: 0.0118 - accuracy: 0.9961 - val_loss: 0.7803 - val_accuracy: 0.8790\n",
            "Epoch 18/20\n",
            "80/80 [==============================] - 4s 53ms/step - loss: 0.0103 - accuracy: 0.9961 - val_loss: 0.8524 - val_accuracy: 0.8813\n",
            "Epoch 19/20\n",
            "80/80 [==============================] - 4s 54ms/step - loss: 0.0106 - accuracy: 0.9962 - val_loss: 0.8093 - val_accuracy: 0.8825\n",
            "Epoch 20/20\n",
            "80/80 [==============================] - 4s 53ms/step - loss: 0.0111 - accuracy: 0.9963 - val_loss: 0.8333 - val_accuracy: 0.8816\n",
            "Test-Accuracy: 0.8820099979639053\n"
          ],
          "name": "stdout"
        }
      ]
    },
    {
      "cell_type": "code",
      "metadata": {
        "colab": {
          "base_uri": "https://localhost:8080/",
          "height": 197
        },
        "id": "6Z1e7MaHHJxm",
        "outputId": "a207da5e-68ca-452f-cc38-9f8202838907"
      },
      "source": [
        "def plot_history(history):\n",
        "    acc = history.history['accuracy']\n",
        "    val_acc = history.history['val_accuracy']\n",
        "    loss = history.history['loss']\n",
        "    val_loss = history.history['val_loss']\n",
        "    x = range(1, len(acc) + 1)\n",
        "\n",
        "    plt.figure(figsize=(12, 5))\n",
        "    plt.subplot(1, 2, 1)\n",
        "    plt.plot(x, acc, 'b', label='Training acc')\n",
        "    plt.plot(x, val_acc, 'r', label='Validation acc')\n",
        "    plt.title('Training and validation accuracy')\n",
        "    plt.xlabel(\"Epochs\")\n",
        "    plt.legend()\n",
        "    plt.subplot(1, 2, 2)\n",
        "    plt.plot(x, loss, 'b', label='Training loss')\n",
        "    plt.plot(x, val_loss, 'r', label='Validation loss')\n",
        "    plt.xlabel(\"Epochs\")\n",
        "\n",
        "    plt.title('Training and validation loss')\n",
        "    plt.legend()\n",
        "    \n",
        "plot_history(results1)"
      ],
      "execution_count": 3,
      "outputs": [
        {
          "output_type": "error",
          "ename": "NameError",
          "evalue": "ignored",
          "traceback": [
            "\u001b[0;31m---------------------------------------------------------------------------\u001b[0m",
            "\u001b[0;31mNameError\u001b[0m                                 Traceback (most recent call last)",
            "\u001b[0;32m<ipython-input-3-6e9c6d355702>\u001b[0m in \u001b[0;36m<module>\u001b[0;34m()\u001b[0m\n\u001b[1;32m     21\u001b[0m     \u001b[0mplt\u001b[0m\u001b[0;34m.\u001b[0m\u001b[0mlegend\u001b[0m\u001b[0;34m(\u001b[0m\u001b[0;34m)\u001b[0m\u001b[0;34m\u001b[0m\u001b[0;34m\u001b[0m\u001b[0m\n\u001b[1;32m     22\u001b[0m \u001b[0;34m\u001b[0m\u001b[0m\n\u001b[0;32m---> 23\u001b[0;31m \u001b[0mplot_history\u001b[0m\u001b[0;34m(\u001b[0m\u001b[0mresults1\u001b[0m\u001b[0;34m)\u001b[0m\u001b[0;34m\u001b[0m\u001b[0;34m\u001b[0m\u001b[0m\n\u001b[0m",
            "\u001b[0;31mNameError\u001b[0m: name 'results1' is not defined"
          ]
        }
      ]
    },
    {
      "cell_type": "markdown",
      "metadata": {
        "id": "eLxQMNgdHJxm"
      },
      "source": [
        "Wow with a model as simple as this, we get a really good accuracy of nearly .9. This took a very short time to run so for this high of an accuracy this is very good. It is interesting to note that while the number of epochs increases the training accuracy, it does not actually increase the validation accuracy. We can see a similar story in the loss plot, because it shows the training loss to decline while the validation loss actually increases. "
      ]
    },
    {
      "cell_type": "markdown",
      "metadata": {
        "id": "OYB0v9NruuZR"
      },
      "source": [
        "I am just curious to see the affect the dropout rate has on the model. In both layers I will change the dropout rate to .5."
      ]
    },
    {
      "cell_type": "code",
      "metadata": {
        "colab": {
          "base_uri": "https://localhost:8080/"
        },
        "id": "UgZhieZ0bvRF",
        "outputId": "b29c73fd-9bd0-497f-8626-50fb2b5bd7c4"
      },
      "source": [
        "(training_data, training_targets), (testing_data, testing_targets) = imdb.load_data(num_words=10000)\r\n",
        "data = np.concatenate((training_data, testing_data), axis=0)\r\n",
        "targets = np.concatenate((training_targets, testing_targets), axis=0)\r\n",
        "def vectorize(sequences, dimension = 10000):\r\n",
        " results = np.zeros((len(sequences), dimension))\r\n",
        " for i, sequence in enumerate(sequences):\r\n",
        "  results[i, sequence] = 1\r\n",
        " return results\r\n",
        " \r\n",
        "data = vectorize(data)\r\n",
        "targets = np.array(targets).astype(\"float32\")\r\n",
        "test_x = data[:10000]\r\n",
        "test_y = targets[:10000]\r\n",
        "train_x = data[10000:]\r\n",
        "train_y = targets[10000:]\r\n",
        "model = models.Sequential()\r\n",
        "# Input - Layer\r\n",
        "model.add(layers.Dense(50, activation = \"relu\", input_shape=(10000, )))\r\n",
        "# Hidden - Layers\r\n",
        "model.add(layers.Dropout(0.5, noise_shape=None, seed=None))\r\n",
        "model.add(layers.Dense(50, activation = \"relu\"))\r\n",
        "model.add(layers.Dropout(0.5, noise_shape=None, seed=None))\r\n",
        "model.add(layers.Dense(50, activation = \"relu\"))\r\n",
        "# Output- Layer\r\n",
        "model.add(layers.Dense(1, activation = \"sigmoid\"))\r\n",
        "model.summary()\r\n",
        "# compiling the model\r\n",
        "model.compile(\r\n",
        " optimizer = \"adam\",\r\n",
        " loss = \"binary_crossentropy\",\r\n",
        " metrics = [\"accuracy\"]\r\n",
        ")\r\n",
        "results2 = model.fit(\r\n",
        " train_x, train_y,\r\n",
        " epochs= 20,\r\n",
        " batch_size = 500,\r\n",
        " validation_data = (test_x, test_y)\r\n",
        ")\r\n",
        "print(\"Test-Accuracy:\", np.mean(results2.history[\"val_accuracy\"]))"
      ],
      "execution_count": 17,
      "outputs": [
        {
          "output_type": "stream",
          "text": [
            "<string>:6: VisibleDeprecationWarning: Creating an ndarray from ragged nested sequences (which is a list-or-tuple of lists-or-tuples-or ndarrays with different lengths or shapes) is deprecated. If you meant to do this, you must specify 'dtype=object' when creating the ndarray\n",
            "/usr/local/lib/python3.6/dist-packages/tensorflow/python/keras/datasets/imdb.py:159: VisibleDeprecationWarning: Creating an ndarray from ragged nested sequences (which is a list-or-tuple of lists-or-tuples-or ndarrays with different lengths or shapes) is deprecated. If you meant to do this, you must specify 'dtype=object' when creating the ndarray\n",
            "  x_train, y_train = np.array(xs[:idx]), np.array(labels[:idx])\n",
            "/usr/local/lib/python3.6/dist-packages/tensorflow/python/keras/datasets/imdb.py:160: VisibleDeprecationWarning: Creating an ndarray from ragged nested sequences (which is a list-or-tuple of lists-or-tuples-or ndarrays with different lengths or shapes) is deprecated. If you meant to do this, you must specify 'dtype=object' when creating the ndarray\n",
            "  x_test, y_test = np.array(xs[idx:]), np.array(labels[idx:])\n"
          ],
          "name": "stderr"
        },
        {
          "output_type": "stream",
          "text": [
            "Model: \"sequential_1\"\n",
            "_________________________________________________________________\n",
            "Layer (type)                 Output Shape              Param #   \n",
            "=================================================================\n",
            "dense_4 (Dense)              (None, 50)                500050    \n",
            "_________________________________________________________________\n",
            "dropout_2 (Dropout)          (None, 50)                0         \n",
            "_________________________________________________________________\n",
            "dense_5 (Dense)              (None, 50)                2550      \n",
            "_________________________________________________________________\n",
            "dropout_3 (Dropout)          (None, 50)                0         \n",
            "_________________________________________________________________\n",
            "dense_6 (Dense)              (None, 50)                2550      \n",
            "_________________________________________________________________\n",
            "dense_7 (Dense)              (None, 1)                 51        \n",
            "=================================================================\n",
            "Total params: 505,201\n",
            "Trainable params: 505,201\n",
            "Non-trainable params: 0\n",
            "_________________________________________________________________\n",
            "Epoch 1/20\n",
            "80/80 [==============================] - 5s 53ms/step - loss: 0.6015 - accuracy: 0.6492 - val_loss: 0.2740 - val_accuracy: 0.8890\n",
            "Epoch 2/20\n",
            "80/80 [==============================] - 4s 48ms/step - loss: 0.2645 - accuracy: 0.9003 - val_loss: 0.2626 - val_accuracy: 0.8946\n",
            "Epoch 3/20\n",
            "80/80 [==============================] - 4s 48ms/step - loss: 0.2007 - accuracy: 0.9271 - val_loss: 0.2709 - val_accuracy: 0.8939\n",
            "Epoch 4/20\n",
            "80/80 [==============================] - 4s 48ms/step - loss: 0.1608 - accuracy: 0.9436 - val_loss: 0.2848 - val_accuracy: 0.8906\n",
            "Epoch 5/20\n",
            "80/80 [==============================] - 4s 48ms/step - loss: 0.1381 - accuracy: 0.9500 - val_loss: 0.3095 - val_accuracy: 0.8932\n",
            "Epoch 6/20\n",
            "80/80 [==============================] - 4s 48ms/step - loss: 0.1113 - accuracy: 0.9595 - val_loss: 0.3343 - val_accuracy: 0.8896\n",
            "Epoch 7/20\n",
            "80/80 [==============================] - 4s 48ms/step - loss: 0.0994 - accuracy: 0.9638 - val_loss: 0.3621 - val_accuracy: 0.8870\n",
            "Epoch 8/20\n",
            "80/80 [==============================] - 4s 48ms/step - loss: 0.0949 - accuracy: 0.9626 - val_loss: 0.3896 - val_accuracy: 0.8854\n",
            "Epoch 9/20\n",
            "80/80 [==============================] - 4s 49ms/step - loss: 0.0895 - accuracy: 0.9643 - val_loss: 0.4198 - val_accuracy: 0.8881\n",
            "Epoch 10/20\n",
            "80/80 [==============================] - 4s 48ms/step - loss: 0.0772 - accuracy: 0.9678 - val_loss: 0.4323 - val_accuracy: 0.8862\n",
            "Epoch 11/20\n",
            "80/80 [==============================] - 4s 49ms/step - loss: 0.0720 - accuracy: 0.9701 - val_loss: 0.4413 - val_accuracy: 0.8859\n",
            "Epoch 12/20\n",
            "80/80 [==============================] - 4s 49ms/step - loss: 0.0735 - accuracy: 0.9684 - val_loss: 0.4470 - val_accuracy: 0.8849\n",
            "Epoch 13/20\n",
            "80/80 [==============================] - 4s 49ms/step - loss: 0.0690 - accuracy: 0.9706 - val_loss: 0.4884 - val_accuracy: 0.8869\n",
            "Epoch 14/20\n",
            "80/80 [==============================] - 4s 49ms/step - loss: 0.0623 - accuracy: 0.9722 - val_loss: 0.4844 - val_accuracy: 0.8844\n",
            "Epoch 15/20\n",
            "80/80 [==============================] - 4s 49ms/step - loss: 0.0609 - accuracy: 0.9739 - val_loss: 0.5149 - val_accuracy: 0.8875\n",
            "Epoch 16/20\n",
            "80/80 [==============================] - 4s 49ms/step - loss: 0.0605 - accuracy: 0.9728 - val_loss: 0.5318 - val_accuracy: 0.8856\n",
            "Epoch 17/20\n",
            "80/80 [==============================] - 4s 49ms/step - loss: 0.0595 - accuracy: 0.9748 - val_loss: 0.5310 - val_accuracy: 0.8847\n",
            "Epoch 18/20\n",
            "80/80 [==============================] - 4s 49ms/step - loss: 0.0581 - accuracy: 0.9727 - val_loss: 0.5360 - val_accuracy: 0.8848\n",
            "Epoch 19/20\n",
            "80/80 [==============================] - 4s 49ms/step - loss: 0.0517 - accuracy: 0.9775 - val_loss: 0.5466 - val_accuracy: 0.8881\n",
            "Epoch 20/20\n",
            "80/80 [==============================] - 4s 49ms/step - loss: 0.0550 - accuracy: 0.9746 - val_loss: 0.5623 - val_accuracy: 0.8862\n",
            "Test-Accuracy: 0.8878300011157989\n"
          ],
          "name": "stdout"
        }
      ]
    },
    {
      "cell_type": "code",
      "metadata": {
        "colab": {
          "base_uri": "https://localhost:8080/",
          "height": 350
        },
        "id": "GhscEpYmcqIt",
        "outputId": "3a81b620-7d78-40c5-e0cf-675181f89486"
      },
      "source": [
        "# First model\r\n",
        "plot_history(results1)"
      ],
      "execution_count": 20,
      "outputs": [
        {
          "output_type": "display_data",
          "data": {
            "image/png": "[encoded data removed]",
            "text/plain": [
              "<Figure size 864x360 with 2 Axes>"
            ]
          },
          "metadata": {
            "tags": [],
            "needs_background": "light"
          }
        }
      ]
    },
    {
      "cell_type": "code",
      "metadata": {
        "colab": {
          "base_uri": "https://localhost:8080/",
          "height": 350
        },
        "id": "jQbuPkZ86LKL",
        "outputId": "32cbdbb2-8760-4469-a418-4e790b8e2991"
      },
      "source": [
        "#second model\r\n",
        "plot_history(results2)"
      ],
      "execution_count": 21,
      "outputs": [
        {
          "output_type": "display_data",
          "data": {
            "image/png": "[encoded data removed]",
            "text/plain": [
              "<Figure size 864x360 with 2 Axes>"
            ]
          },
          "metadata": {
            "tags": [],
            "needs_background": "light"
          }
        }
      ]
    },
    {
      "cell_type": "markdown",
      "metadata": {
        "id": "WfBhV8oXcvHl"
      },
      "source": [
        "As I would expect, the two models perform very similarly. It seems like increasing the dropout rate slightly increased. It is pretty strange though to see how different the plots look for the first model to the second model considering the only difference is the dropout rate."
      ]
    },
    {
      "cell_type": "markdown",
      "metadata": {
        "id": "ADK49kw4HJxm"
      },
      "source": [
        "Now I will build and train a model using the Model class. I will make a bidirectional LSTM to do sentiment classification of the same dataset as before. "
      ]
    },
    {
      "cell_type": "code",
      "metadata": {
        "colab": {
          "base_uri": "https://localhost:8080/"
        },
        "id": "uwgk8bRlHJxm",
        "outputId": "14210438-0941-4b07-d434-50e9d50db098"
      },
      "source": [
        "import numpy as np\n",
        "from tensorflow import keras\n",
        "from keras.utils import to_categorical\n",
        "from keras import models\n",
        "from keras import layers\n",
        "from keras.datasets import imdb\n",
        "max_features = 10000  \n",
        "maxlen = 100  \n",
        "\n",
        "inputs = keras.Input(shape=(None,), dtype=\"int32\")\n",
        "x = layers.Embedding(max_features, 128)(inputs)\n",
        "# Add 2 bidirectional LSTMs\n",
        "x = layers.Bidirectional(layers.LSTM(64, return_sequences=True))(x)\n",
        "x = layers.Bidirectional(layers.LSTM(64))(x)\n",
        "outputs = layers.Dense(1, activation=\"sigmoid\")(x)\n",
        "model = keras.Model(inputs, outputs)\n",
        "model.summary()\n",
        "\n",
        "(training_data, training_targets), (testing_data, testing_targets) = imdb.load_data(num_words=10000)\n",
        "data = np.concatenate((training_data, testing_data), axis=0)\n",
        "targets = np.concatenate((training_targets, testing_targets), axis=0)\n",
        "\n",
        "\n",
        "def vectorize(sequences, dimension = 10000):\n",
        "    results = np.zeros((len(sequences), dimension))\n",
        "    for i, sequence in enumerate(sequences):\n",
        "        results[i, sequence] = 1\n",
        "    return results\n",
        " \n",
        "data = data[:4000]\n",
        "targets = targets[:4000]\n",
        "data = vectorize(data)\n",
        "\n",
        "test_x = data[:2000]\n",
        "test_y = targets[:2000]\n",
        "train_x = data[2000:]\n",
        "train_y = targets[2000:]\n",
        "\n",
        "train_x = keras.preprocessing.sequence.pad_sequences(train_x, maxlen = maxlen)\n",
        "test_x = keras.preprocessing.sequence.pad_sequences(test_x, maxlen = maxlen)\n",
        "\n",
        "model.compile(optimizer=\"adam\", loss=\"binary_crossentropy\", metrics=[\"accuracy\"])\n",
        "results = model.fit(train_x, train_y, batch_size=32, epochs=20, validation_data=(test_x, test_y))"
      ],
      "execution_count": 1,
      "outputs": [
        {
          "output_type": "stream",
          "text": [
            "Model: \"model\"\n",
            "_________________________________________________________________\n",
            "Layer (type)                 Output Shape              Param #   \n",
            "=================================================================\n",
            "input_1 (InputLayer)         [(None, None)]            0         \n",
            "_________________________________________________________________\n",
            "embedding (Embedding)        (None, None, 128)         1280000   \n",
            "_________________________________________________________________\n",
            "bidirectional (Bidirectional (None, None, 128)         98816     \n",
            "_________________________________________________________________\n",
            "bidirectional_1 (Bidirection (None, 128)               98816     \n",
            "_________________________________________________________________\n",
            "dense (Dense)                (None, 1)                 129       \n",
            "=================================================================\n",
            "Total params: 1,477,761\n",
            "Trainable params: 1,477,761\n",
            "Non-trainable params: 0\n",
            "_________________________________________________________________\n",
            "Downloading data from https://storage.googleapis.com/tensorflow/tf-keras-datasets/imdb.npz\n",
            "17465344/17464789 [==============================] - 0s 0us/step\n"
          ],
          "name": "stdout"
        },
        {
          "output_type": "stream",
          "text": [
            "<string>:6: VisibleDeprecationWarning: Creating an ndarray from ragged nested sequences (which is a list-or-tuple of lists-or-tuples-or ndarrays with different lengths or shapes) is deprecated. If you meant to do this, you must specify 'dtype=object' when creating the ndarray\n",
            "/usr/local/lib/python3.6/dist-packages/tensorflow/python/keras/datasets/imdb.py:159: VisibleDeprecationWarning: Creating an ndarray from ragged nested sequences (which is a list-or-tuple of lists-or-tuples-or ndarrays with different lengths or shapes) is deprecated. If you meant to do this, you must specify 'dtype=object' when creating the ndarray\n",
            "  x_train, y_train = np.array(xs[:idx]), np.array(labels[:idx])\n",
            "/usr/local/lib/python3.6/dist-packages/tensorflow/python/keras/datasets/imdb.py:160: VisibleDeprecationWarning: Creating an ndarray from ragged nested sequences (which is a list-or-tuple of lists-or-tuples-or ndarrays with different lengths or shapes) is deprecated. If you meant to do this, you must specify 'dtype=object' when creating the ndarray\n",
            "  x_test, y_test = np.array(xs[idx:]), np.array(labels[idx:])\n"
          ],
          "name": "stderr"
        },
        {
          "output_type": "stream",
          "text": [
            "Epoch 1/20\n",
            "63/63 [==============================] - 26s 320ms/step - loss: 0.6941 - accuracy: 0.4934 - val_loss: 0.6929 - val_accuracy: 0.5115\n",
            "Epoch 2/20\n",
            "63/63 [==============================] - 18s 286ms/step - loss: 0.6934 - accuracy: 0.5062 - val_loss: 0.6932 - val_accuracy: 0.4885\n",
            "Epoch 3/20\n",
            "63/63 [==============================] - 18s 286ms/step - loss: 0.6935 - accuracy: 0.4746 - val_loss: 0.6930 - val_accuracy: 0.5115\n",
            "Epoch 4/20\n",
            "63/63 [==============================] - 18s 285ms/step - loss: 0.6935 - accuracy: 0.4926 - val_loss: 0.6929 - val_accuracy: 0.5115\n",
            "Epoch 5/20\n",
            "63/63 [==============================] - 18s 285ms/step - loss: 0.6931 - accuracy: 0.5094 - val_loss: 0.6929 - val_accuracy: 0.5115\n",
            "Epoch 6/20\n",
            "63/63 [==============================] - 18s 287ms/step - loss: 0.6935 - accuracy: 0.4968 - val_loss: 0.6929 - val_accuracy: 0.5115\n",
            "Epoch 7/20\n",
            "63/63 [==============================] - 18s 287ms/step - loss: 0.6930 - accuracy: 0.5040 - val_loss: 0.6928 - val_accuracy: 0.5100\n",
            "Epoch 8/20\n",
            "63/63 [==============================] - 18s 286ms/step - loss: 0.6929 - accuracy: 0.5142 - val_loss: 0.6935 - val_accuracy: 0.4890\n",
            "Epoch 9/20\n",
            "63/63 [==============================] - 18s 289ms/step - loss: 0.6923 - accuracy: 0.5195 - val_loss: 0.6927 - val_accuracy: 0.5120\n",
            "Epoch 10/20\n",
            "63/63 [==============================] - 18s 287ms/step - loss: 0.6917 - accuracy: 0.5039 - val_loss: 0.6933 - val_accuracy: 0.4900\n",
            "Epoch 11/20\n",
            "63/63 [==============================] - 18s 287ms/step - loss: 0.6916 - accuracy: 0.5233 - val_loss: 0.6941 - val_accuracy: 0.4900\n",
            "Epoch 12/20\n",
            "63/63 [==============================] - 18s 287ms/step - loss: 0.6910 - accuracy: 0.5095 - val_loss: 0.6936 - val_accuracy: 0.4915\n",
            "Epoch 13/20\n",
            "63/63 [==============================] - 18s 287ms/step - loss: 0.6872 - accuracy: 0.5105 - val_loss: 0.6955 - val_accuracy: 0.4925\n",
            "Epoch 14/20\n",
            "63/63 [==============================] - 18s 288ms/step - loss: 0.6914 - accuracy: 0.5132 - val_loss: 0.6939 - val_accuracy: 0.5150\n",
            "Epoch 15/20\n",
            "63/63 [==============================] - 18s 287ms/step - loss: 0.6866 - accuracy: 0.5282 - val_loss: 0.6955 - val_accuracy: 0.4920\n",
            "Epoch 16/20\n",
            "63/63 [==============================] - 18s 287ms/step - loss: 0.6879 - accuracy: 0.5015 - val_loss: 0.6949 - val_accuracy: 0.5115\n",
            "Epoch 17/20\n",
            "63/63 [==============================] - 18s 286ms/step - loss: 0.6804 - accuracy: 0.5212 - val_loss: 0.6949 - val_accuracy: 0.5125\n",
            "Epoch 18/20\n",
            "63/63 [==============================] - 18s 289ms/step - loss: 0.6874 - accuracy: 0.5194 - val_loss: 0.6950 - val_accuracy: 0.5130\n",
            "Epoch 19/20\n",
            "63/63 [==============================] - 18s 287ms/step - loss: 0.6823 - accuracy: 0.5299 - val_loss: 0.6960 - val_accuracy: 0.5115\n",
            "Epoch 20/20\n",
            "63/63 [==============================] - 18s 287ms/step - loss: 0.6787 - accuracy: 0.4999 - val_loss: 0.6950 - val_accuracy: 0.5105\n"
          ],
          "name": "stdout"
        }
      ]
    },
    {
      "cell_type": "markdown",
      "metadata": {
        "id": "nNMprdJLR0gr"
      },
      "source": [
        "Clearly the above results are not as impressive as the sequential model. I also noticed the drastic difference in the time it took for this model to train. I had significantly reduce the size of the dataset in order for the training to not taking too long which Im sure reduced the accuracy. Even with this, I was dissapointed to see how poorly the model did when looking at the validation accuracy metric."
      ]
    },
    {
      "cell_type": "code",
      "metadata": {
        "colab": {
          "base_uri": "https://localhost:8080/",
          "height": 350
        },
        "id": "ROvbwZ3WRcgP",
        "outputId": "5992b430-2695-4ac9-8101-a80aeb0c8cc0"
      },
      "source": [
        "plot_history(results)"
      ],
      "execution_count": 5,
      "outputs": [
        {
          "output_type": "display_data",
          "data": {
            "image/png": "[encoded data removed]",
            "text/plain": [
              "<Figure size 864x360 with 2 Axes>"
            ]
          },
          "metadata": {
            "tags": [],
            "needs_background": "light"
          }
        }
      ]
    },
    {
      "cell_type": "markdown",
      "metadata": {
        "id": "nXrWbPWlSiDk"
      },
      "source": [
        "The accuracy plot does not seem to indicate any clear trend upwards for the validation accuracy so that is a little disappointing."
      ]
    },
    {
      "cell_type": "markdown",
      "metadata": {
        "id": "as_z1cRW0_ol"
      },
      "source": [
        "Lets see what happens if we use the Sequential class to make the bidirectional lstm"
      ]
    },
    {
      "cell_type": "code",
      "metadata": {
        "colab": {
          "base_uri": "https://localhost:8080/"
        },
        "id": "t017QQsB7YJb",
        "outputId": "82a539a9-ed61-4238-db48-3fd7b6e5f16a"
      },
      "source": [
        "import numpy as np\r\n",
        "from tensorflow import keras\r\n",
        "from keras.utils import to_categorical\r\n",
        "from keras import models\r\n",
        "from keras import layers\r\n",
        "from keras.datasets import imdb\r\n",
        "max_features = 10000  \r\n",
        "maxlen = 100 \r\n",
        "(training_data, training_targets), (testing_data, testing_targets) = imdb.load_data(num_words=10000)\r\n",
        "data = np.concatenate((training_data, testing_data), axis=0)\r\n",
        "targets = np.concatenate((training_targets, testing_targets), axis=0)\r\n",
        "def vectorize(sequences, dimension = 10000):\r\n",
        " results = np.zeros((len(sequences), dimension))\r\n",
        " for i, sequence in enumerate(sequences):\r\n",
        "  results[i, sequence] = 1\r\n",
        " return results\r\n",
        " \r\n",
        "data = data[:4000]\r\n",
        "targets = targets[:4000]\r\n",
        "data = vectorize(data)\r\n",
        "\r\n",
        "test_x = data[:2000]\r\n",
        "test_y = targets[:2000]\r\n",
        "train_x = data[2000:]\r\n",
        "train_y = targets[2000:]\r\n",
        "\r\n",
        "train_x = keras.preprocessing.sequence.pad_sequences(train_x, maxlen = maxlen)\r\n",
        "test_x = keras.preprocessing.sequence.pad_sequences(test_x, maxlen = maxlen)\r\n",
        "model = models.Sequential()\r\n",
        "# # Input - Layer\r\n",
        "# model.add(layers.Dense(50, activation = \"relu\", input_shape=(10000, )))\r\n",
        "# # Hidden - Layers\r\n",
        "model.add(layers.Embedding(max_features, 128))\r\n",
        "model.add(layers.Bidirectional(layers.LSTM(64, return_sequences=True )))\r\n",
        "model.add(layers.Bidirectional(layers.LSTM(64)))\r\n",
        "\r\n",
        "# Output- Layer\r\n",
        "model.add(layers.Dense(1, activation = \"sigmoid\"))\r\n",
        "model.summary()\r\n",
        "# compiling the model\r\n",
        "model.compile(\r\n",
        " optimizer = \"adam\",\r\n",
        " loss = \"binary_crossentropy\",\r\n",
        " metrics = [\"accuracy\"]\r\n",
        ")\r\n",
        "results = model.fit(\r\n",
        " train_x, train_y,\r\n",
        " epochs= 20,\r\n",
        " batch_size = 32,\r\n",
        " validation_data = (test_x, test_y)\r\n",
        ")\r\n",
        "print(\"Test-Accuracy:\", np.mean(results.history[\"val_accuracy\"]))"
      ],
      "execution_count": 6,
      "outputs": [
        {
          "output_type": "stream",
          "text": [
            "<string>:6: VisibleDeprecationWarning: Creating an ndarray from ragged nested sequences (which is a list-or-tuple of lists-or-tuples-or ndarrays with different lengths or shapes) is deprecated. If you meant to do this, you must specify 'dtype=object' when creating the ndarray\n",
            "/usr/local/lib/python3.6/dist-packages/tensorflow/python/keras/datasets/imdb.py:159: VisibleDeprecationWarning: Creating an ndarray from ragged nested sequences (which is a list-or-tuple of lists-or-tuples-or ndarrays with different lengths or shapes) is deprecated. If you meant to do this, you must specify 'dtype=object' when creating the ndarray\n",
            "  x_train, y_train = np.array(xs[:idx]), np.array(labels[:idx])\n",
            "/usr/local/lib/python3.6/dist-packages/tensorflow/python/keras/datasets/imdb.py:160: VisibleDeprecationWarning: Creating an ndarray from ragged nested sequences (which is a list-or-tuple of lists-or-tuples-or ndarrays with different lengths or shapes) is deprecated. If you meant to do this, you must specify 'dtype=object' when creating the ndarray\n",
            "  x_test, y_test = np.array(xs[idx:]), np.array(labels[idx:])\n"
          ],
          "name": "stderr"
        },
        {
          "output_type": "stream",
          "text": [
            "Model: \"sequential\"\n",
            "_________________________________________________________________\n",
            "Layer (type)                 Output Shape              Param #   \n",
            "=================================================================\n",
            "embedding_1 (Embedding)      (None, None, 128)         1280000   \n",
            "_________________________________________________________________\n",
            "bidirectional_2 (Bidirection (None, None, 128)         98816     \n",
            "_________________________________________________________________\n",
            "bidirectional_3 (Bidirection (None, 128)               98816     \n",
            "_________________________________________________________________\n",
            "dense_1 (Dense)              (None, 1)                 129       \n",
            "=================================================================\n",
            "Total params: 1,477,761\n",
            "Trainable params: 1,477,761\n",
            "Non-trainable params: 0\n",
            "_________________________________________________________________\n",
            "Epoch 1/20\n",
            "63/63 [==============================] - 25s 316ms/step - loss: 0.6954 - accuracy: 0.4811 - val_loss: 0.6929 - val_accuracy: 0.5115\n",
            "Epoch 2/20\n",
            "63/63 [==============================] - 19s 301ms/step - loss: 0.6930 - accuracy: 0.5071 - val_loss: 0.6929 - val_accuracy: 0.5115\n",
            "Epoch 3/20\n",
            "63/63 [==============================] - 18s 294ms/step - loss: 0.6929 - accuracy: 0.5138 - val_loss: 0.6929 - val_accuracy: 0.5115\n",
            "Epoch 4/20\n",
            "63/63 [==============================] - 19s 295ms/step - loss: 0.6937 - accuracy: 0.4744 - val_loss: 0.6929 - val_accuracy: 0.5115\n",
            "Epoch 5/20\n",
            "63/63 [==============================] - 19s 296ms/step - loss: 0.6936 - accuracy: 0.4828 - val_loss: 0.6930 - val_accuracy: 0.5110\n",
            "Epoch 6/20\n",
            "63/63 [==============================] - 19s 295ms/step - loss: 0.6933 - accuracy: 0.4917 - val_loss: 0.6929 - val_accuracy: 0.5110\n",
            "Epoch 7/20\n",
            "63/63 [==============================] - 19s 297ms/step - loss: 0.6929 - accuracy: 0.5178 - val_loss: 0.6930 - val_accuracy: 0.4890\n",
            "Epoch 8/20\n",
            "63/63 [==============================] - 19s 296ms/step - loss: 0.6957 - accuracy: 0.4887 - val_loss: 0.7189 - val_accuracy: 0.4895\n",
            "Epoch 9/20\n",
            "63/63 [==============================] - 19s 295ms/step - loss: 0.7021 - accuracy: 0.4623 - val_loss: 0.6927 - val_accuracy: 0.5155\n",
            "Epoch 10/20\n",
            "63/63 [==============================] - 19s 296ms/step - loss: 0.6921 - accuracy: 0.5087 - val_loss: 0.6924 - val_accuracy: 0.5170\n",
            "Epoch 11/20\n",
            "63/63 [==============================] - 19s 295ms/step - loss: 0.6915 - accuracy: 0.5195 - val_loss: 0.6928 - val_accuracy: 0.5135\n",
            "Epoch 12/20\n",
            "63/63 [==============================] - 19s 295ms/step - loss: 0.6911 - accuracy: 0.5418 - val_loss: 0.6928 - val_accuracy: 0.5125\n",
            "Epoch 13/20\n",
            "63/63 [==============================] - 19s 295ms/step - loss: 0.6892 - accuracy: 0.5358 - val_loss: 0.6925 - val_accuracy: 0.5175\n",
            "Epoch 14/20\n",
            "63/63 [==============================] - 19s 296ms/step - loss: 0.6902 - accuracy: 0.4948 - val_loss: 0.6971 - val_accuracy: 0.5055\n",
            "Epoch 15/20\n",
            "63/63 [==============================] - 19s 295ms/step - loss: 0.6935 - accuracy: 0.5055 - val_loss: 0.6953 - val_accuracy: 0.5065\n",
            "Epoch 16/20\n",
            "63/63 [==============================] - 18s 294ms/step - loss: 0.6936 - accuracy: 0.4755 - val_loss: 0.6951 - val_accuracy: 0.5045\n",
            "Epoch 17/20\n",
            "63/63 [==============================] - 19s 296ms/step - loss: 0.6861 - accuracy: 0.5545 - val_loss: 0.6958 - val_accuracy: 0.4890\n",
            "Epoch 18/20\n",
            "63/63 [==============================] - 18s 294ms/step - loss: 0.6898 - accuracy: 0.5328 - val_loss: 0.6952 - val_accuracy: 0.5050\n",
            "Epoch 19/20\n",
            "63/63 [==============================] - 18s 294ms/step - loss: 0.6861 - accuracy: 0.5314 - val_loss: 0.6934 - val_accuracy: 0.5115\n",
            "Epoch 20/20\n",
            "63/63 [==============================] - 19s 295ms/step - loss: 0.6896 - accuracy: 0.4864 - val_loss: 0.6935 - val_accuracy: 0.5150\n",
            "Test-Accuracy: 0.5079749941825866\n"
          ],
          "name": "stdout"
        }
      ]
    },
    {
      "cell_type": "markdown",
      "metadata": {
        "id": "9naK__O9Agc0"
      },
      "source": [
        "Again, due to the incredibly large amount of time it would take for me to run this model with the full training and testing dataset, I had to significantly reduce the dataset. Again the accuracy does not seem to be very good, perhaps in part due to the much smaller dataset."
      ]
    },
    {
      "cell_type": "code",
      "metadata": {
        "id": "lcKsWMoWSvXN"
      },
      "source": [
        "plot_history(results)"
      ],
      "execution_count": null,
      "outputs": []
    },
    {
      "cell_type": "markdown",
      "metadata": {
        "id": "vFSjqUKKXrJX"
      },
      "source": [
        "In the following cell I will make a bidirectional lstm model."
      ]
    },
    {
      "cell_type": "code",
      "metadata": {
        "colab": {
          "base_uri": "https://localhost:8080/"
        },
        "id": "QqQ1oFAmkIOR",
        "outputId": "8fdce595-6f9a-4d52-c3c6-86ee02968e36"
      },
      "source": [
        "import numpy as np\r\n",
        "from tensorflow import keras\r\n",
        "from tensorflow.keras import layers\r\n",
        "\r\n",
        "max_features = 20000  # Only consider the top 20k words\r\n",
        "maxlen = 200  # Only consider the first 200 words of each movie review\r\n",
        "\r\n",
        "inputs = keras.Input(shape=(None,), dtype=\"int32\")\r\n",
        "# Embed each integer in a 128-dimensional vector\r\n",
        "x = layers.Embedding(max_features, 128)(inputs)\r\n",
        "# Add 2 bidirectional LSTMs\r\n",
        "x = layers.Bidirectional(layers.LSTM(64, return_sequences=True))(x)\r\n",
        "x = layers.Bidirectional(layers.LSTM(64))(x)\r\n",
        "# Add a classifier\r\n",
        "outputs = layers.Dense(1, activation=\"sigmoid\")(x)\r\n",
        "model = keras.Model(inputs, outputs)\r\n",
        "model.summary()\r\n",
        "\r\n",
        "\r\n",
        "(x_train, y_train), (x_val, y_val) = keras.datasets.imdb.load_data(\r\n",
        "    num_words=max_features\r\n",
        ")\r\n",
        "print(len(x_train), \"Training sequences\")\r\n",
        "print(len(x_val), \"Validation sequences\")\r\n",
        "# Use pad_sequence to standardize sequence length:\r\n",
        "# this will truncate sequences longer than 200 words and zero-pad sequences shorter than 200 words.\r\n",
        "x_train = keras.preprocessing.sequence.pad_sequences(x_train, maxlen=maxlen)\r\n",
        "x_val = keras.preprocessing.sequence.pad_sequences(x_val, maxlen=maxlen)\r\n",
        "\r\n",
        "model.compile(optimizer=\"adam\", loss=\"binary_crossentropy\", metrics=[\"accuracy\"])\r\n",
        "model.fit(x_train, y_train, batch_size=32, epochs=2, validation_data=(x_val, y_val))"
      ],
      "execution_count": null,
      "outputs": [
        {
          "output_type": "stream",
          "text": [
            "Model: \"model\"\n",
            "_________________________________________________________________\n",
            "Layer (type)                 Output Shape              Param #   \n",
            "=================================================================\n",
            "input_1 (InputLayer)         [(None, None)]            0         \n",
            "_________________________________________________________________\n",
            "embedding (Embedding)        (None, None, 128)         2560000   \n",
            "_________________________________________________________________\n",
            "bidirectional (Bidirectional (None, None, 128)         98816     \n",
            "_________________________________________________________________\n",
            "bidirectional_1 (Bidirection (None, 128)               98816     \n",
            "_________________________________________________________________\n",
            "dense (Dense)                (None, 1)                 129       \n",
            "=================================================================\n",
            "Total params: 2,757,761\n",
            "Trainable params: 2,757,761\n",
            "Non-trainable params: 0\n",
            "_________________________________________________________________\n"
          ],
          "name": "stdout"
        },
        {
          "output_type": "stream",
          "text": [
            "<string>:6: VisibleDeprecationWarning: Creating an ndarray from ragged nested sequences (which is a list-or-tuple of lists-or-tuples-or ndarrays with different lengths or shapes) is deprecated. If you meant to do this, you must specify 'dtype=object' when creating the ndarray\n",
            "/usr/local/lib/python3.6/dist-packages/tensorflow/python/keras/datasets/imdb.py:159: VisibleDeprecationWarning: Creating an ndarray from ragged nested sequences (which is a list-or-tuple of lists-or-tuples-or ndarrays with different lengths or shapes) is deprecated. If you meant to do this, you must specify 'dtype=object' when creating the ndarray\n",
            "  x_train, y_train = np.array(xs[:idx]), np.array(labels[:idx])\n",
            "/usr/local/lib/python3.6/dist-packages/tensorflow/python/keras/datasets/imdb.py:160: VisibleDeprecationWarning: Creating an ndarray from ragged nested sequences (which is a list-or-tuple of lists-or-tuples-or ndarrays with different lengths or shapes) is deprecated. If you meant to do this, you must specify 'dtype=object' when creating the ndarray\n",
            "  x_test, y_test = np.array(xs[idx:]), np.array(labels[idx:])\n"
          ],
          "name": "stderr"
        },
        {
          "output_type": "stream",
          "text": [
            "25000 Training sequences\n",
            "25000 Validation sequences\n",
            "Epoch 1/2\n",
            "782/782 [==============================] - 471s 595ms/step - loss: 0.4954 - accuracy: 0.7416 - val_loss: 0.3071 - val_accuracy: 0.8706\n",
            "Epoch 2/2\n",
            "440/782 [===============>..............] - ETA: 2:50 - loss: 0.1923 - accuracy: 0.9325"
          ],
          "name": "stdout"
        }
      ]
    },
    {
      "cell_type": "markdown",
      "metadata": {
        "id": "Ui8JjWIarwO4"
      },
      "source": [
        "Although the above model took a decently long time to train, the results were pretty good. A validation accuracy is so much better than some of the other models I made. I expect part of this is because I was able to use the full dataset to train."
      ]
    },
    {
      "cell_type": "markdown",
      "metadata": {
        "id": "cODo2wQ8X-vh"
      },
      "source": [
        "In the following cell I will be using to global max pool model to see what happens."
      ]
    },
    {
      "cell_type": "code",
      "metadata": {
        "id": "Rk_BCkCiHJxn"
      },
      "source": [
        "import numpy as np\n",
        "from tensorflow import keras\n",
        "from keras.utils import to_categorical\n",
        "from keras import models\n",
        "from keras import layers\n",
        "from keras.datasets import imdb\n",
        "embedding_dim = 50\n",
        "(training_data, training_targets), (testing_data, testing_targets) = imdb.load_data(num_words=10000)\n",
        "data = np.concatenate((training_data, testing_data), axis=0)\n",
        "targets = np.concatenate((training_targets, testing_targets), axis=0)\n",
        "def vectorize(sequences, dimension = 10000):\n",
        " results = np.zeros((len(sequences), dimension))\n",
        " for i, sequence in enumerate(sequences):\n",
        "  results[i, sequence] = 1\n",
        " return results\n",
        " \n",
        "data = vectorize(data)\n",
        "targets = np.array(targets).astype(\"float32\")\n",
        "test_x = data[:10000]\n",
        "test_y = targets[:10000]\n",
        "train_x = data[10000:]\n",
        "train_y = targets[10000:]\n",
        "model = models.Sequential()\n",
        "model.add(layers.Embedding(input_dim=50, \n",
        "                           output_dim=embedding_dim, \n",
        "                           input_length=150))\n",
        "model.add(layers.GlobalMaxPool1D())\n",
        "model.add(layers.Dense(10, activation='relu'))\n",
        "model.add(layers.Dense(1, activation='sigmoid'))\n",
        "model.compile(\n",
        " optimizer = \"adam\",\n",
        " loss = \"binary_crossentropy\",\n",
        " metrics = [\"accuracy\"]\n",
        ")\n",
        "results = model.fit(\n",
        " train_x, train_y,\n",
        " epochs= 2,\n",
        " batch_size = 500,\n",
        " validation_data = (test_x, test_y)\n",
        ")\n",
        "model.summary()"
      ],
      "execution_count": null,
      "outputs": []
    },
    {
      "cell_type": "code",
      "metadata": {
        "id": "5XcOnx3nSp3H"
      },
      "source": [
        "\r\n",
        "plot_history(results)"
      ],
      "execution_count": null,
      "outputs": []
    },
    {
      "cell_type": "markdown",
      "metadata": {
        "id": "R5-q-rUeGIES"
      },
      "source": [
        "\r\n",
        "## Final Thoughts\r\n",
        "I was forced many times to reduce the size of the dataset and add a max length parameter to the inputs of reviews to reduce the time it took to train these models. This was unfortunate because I think it severly hindered the accuracy of the models.\r\n",
        "\r\n",
        "It is problems like these that really put into perspective the limitations of a laptop computer in machine learning. The hardware behind machine learning is an aspect that I have often overlooked. \r\n",
        "\r\n",
        "I have learned that the Sequential class from keras seems to have performed extremely well with the droupout and dense layers. It was the only model I was able to run with many epochs on the full training data set with the full validation set. Because of this, it was the only model that really seemed to work at all. Most the other models had validation accuracies around .55 which is quite low considering it is only a binary class, so a accuracy of .5 would be expect by random guesses.\r\n",
        "\r\n",
        "The beginning part of this file really helped me understand the whole process of how to create models such as these in python. Forcing myself to describe what is happening line by line really made me try to understand the process behind the scenes rather than just try and get my code to work."
      ]
    },
    {
      "cell_type": "code",
      "metadata": {
        "id": "hL0fuOf1Itdq"
      },
      "source": [
        ""
      ],
      "execution_count": null,
      "outputs": []
    }
  ]
}